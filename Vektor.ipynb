{
 "cells": [
  {
   "cell_type": "code",
   "execution_count": 3,
   "id": "fabulous-squad",
   "metadata": {
    "tags": []
   },
   "outputs": [
    {
     "name": "stdout",
     "output_type": "stream",
     "text": [
      "vektor default python\n",
      "\n",
      " \n",
      " vektor via numpy \n",
      "\n",
      "[ 1  2  3  4  5  6  7  8  9 10 11 12 13 14 15 16 17 18 19]\n",
      "[ 1  3  5  7  9 11 13 15 17 19]\n",
      "1\n",
      "(19,)\n"
     ]
    }
   ],
   "source": [
    "# vektor python numpywith range value\n",
    "import numpy as np\n",
    "print(\"vektor default python\\n\")\n",
    "\n",
    "a= np.arange(1,20,1)\n",
    "b= np.arange(1,20,2)\n",
    "\n",
    "import numpy as np\n",
    "print (\" \\n vektor via numpy \\n\")\n",
    "\n",
    "# vektor via numpy\n",
    "c= np.array ([1,2,3,4,5])\n",
    "d= np.array ([1.5, 2.5, 5, 6, 7])\n",
    "\n",
    "print(a)\n",
    "print(b)\n",
    "print(a.ndim)\n",
    "print(a.shape)"
   ]
  },
  {
   "cell_type": "code",
   "execution_count": null,
   "id": "married-anime",
   "metadata": {},
   "outputs": [],
   "source": []
  }
 ],
 "metadata": {
  "kernelspec": {
   "display_name": "Python 3",
   "language": "python",
   "name": "python3"
  },
  "language_info": {
   "codemirror_mode": {
    "name": "ipython",
    "version": 3
   },
   "file_extension": ".py",
   "mimetype": "text/x-python",
   "name": "python",
   "nbconvert_exporter": "python",
   "pygments_lexer": "ipython3",
   "version": "3.8.5"
  }
 },
 "nbformat": 4,
 "nbformat_minor": 5
}
