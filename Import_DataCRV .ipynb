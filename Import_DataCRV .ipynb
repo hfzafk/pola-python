{
 "cells": [
  {
   "cell_type": "code",
   "execution_count": 2,
   "id": "single-brake",
   "metadata": {},
   "outputs": [
    {
     "name": "stdout",
     "output_type": "stream",
     "text": [
      "   Nama Pasien  Umur Gender Diagnosa Sakit\n",
      "0         Anto    24      L          Tidak\n",
      "1         Budi    35      L             Ya\n",
      "2          Adi    55      L             Ya\n",
      "3       Delima    32      P             Ya\n",
      "4         Dodi    21      L          Tidak\n",
      "5      Tukiyem    19      P          Tidak\n",
      "6         Rama    23      L          Tidak\n",
      "7        Santi    35      P          Tidak\n",
      "8         Mery    44      P             Ya\n",
      "9        Yanti    27      P          Tidak\n",
      "10       Parto    43      L             Ya\n",
      "11         Dea    24      P          Tidak\n"
     ]
    }
   ],
   "source": [
    "# Membaca data dari file dengan format CSV\n",
    "import pandas as pd\n",
    "data = pd.read_csv(\"Data.csv\", sep=\";\")\n",
    "print(data)"
   ]
  },
  {
   "cell_type": "code",
   "execution_count": null,
   "id": "solid-dimension",
   "metadata": {},
   "outputs": [],
   "source": []
  }
 ],
 "metadata": {
  "kernelspec": {
   "display_name": "Python 3",
   "language": "python",
   "name": "python3"
  },
  "language_info": {
   "codemirror_mode": {
    "name": "ipython",
    "version": 3
   },
   "file_extension": ".py",
   "mimetype": "text/x-python",
   "name": "python",
   "nbconvert_exporter": "python",
   "pygments_lexer": "ipython3",
   "version": "3.8.5"
  }
 },
 "nbformat": 4,
 "nbformat_minor": 5
}
