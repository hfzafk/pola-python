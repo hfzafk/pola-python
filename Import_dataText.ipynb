{
 "cells": [
  {
   "cell_type": "code",
   "execution_count": 1,
   "id": "unusual-working",
   "metadata": {},
   "outputs": [
    {
     "name": "stdout",
     "output_type": "stream",
     "text": [
      "\n",
      " read text data with tab delimiter\n",
      "NamaPasien\tUmur\tGender\tDiagnosa Sakit\n",
      "Anto\t\t24\tL\tTidak\n",
      "Budi\t\t35\tL\tYa\n",
      "Adi\t\t55\tL\tYa\n",
      "Delima\t\t32\tP\tYa\n",
      "Dodi\t\t21\tL\tTidak\n",
      "Tukiyem\t\t19\tP\tTidak\n",
      "Rama\t\t23\tL\tTidak\n",
      "Santi\t\t35\tP\tTidak\n",
      "Mery\t\t44\tP\tYa\n",
      "Yanti\t\t27\tP\tTidak\n",
      "Parto\t\t43\tL\tYa\n",
      "Dea\t\t24\tP\tTidak\n",
      "\n"
     ]
    }
   ],
   "source": [
    "# Membaca data dari file dengan format text (delimeter)\n",
    "print(\"\\n read text data with tab delimiter\")\n",
    "with open ('Data.txt') as data:\n",
    "    print(data.read())"
   ]
  },
  {
   "cell_type": "code",
   "execution_count": null,
   "id": "acknowledged-seven",
   "metadata": {},
   "outputs": [],
   "source": []
  }
 ],
 "metadata": {
  "kernelspec": {
   "display_name": "Python 3",
   "language": "python",
   "name": "python3"
  },
  "language_info": {
   "codemirror_mode": {
    "name": "ipython",
    "version": 3
   },
   "file_extension": ".py",
   "mimetype": "text/x-python",
   "name": "python",
   "nbconvert_exporter": "python",
   "pygments_lexer": "ipython3",
   "version": "3.8.5"
  }
 },
 "nbformat": 4,
 "nbformat_minor": 5
}
